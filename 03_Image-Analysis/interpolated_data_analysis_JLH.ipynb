{
 "cells": [
  {
   "cell_type": "markdown",
   "metadata": {},
   "source": [
    "# Data visualization and analysis of interpolated image data"
   ]
  },
  {
   "cell_type": "markdown",
   "metadata": {},
   "source": [
    "The worms we collect image data from can vary in length. As such, the resulting vectors of data can vary in length. One way to handle this is by standardizing all the vector lengths and interpolating some data points. \n",
    "\n",
    "Below is a workflow for analyzing this type of data."
   ]
  },
  {
   "cell_type": "markdown",
   "metadata": {},
   "source": [
    "---"
   ]
  },
  {
   "cell_type": "code",
   "execution_count": 1,
   "metadata": {},
   "outputs": [],
   "source": [
    "import pandas as pd\n",
    "import numpy as np\n",
    "import matplotlib as mp\n",
    "import matplotlib.pyplot as plt\n",
    "import random\n",
    "import re\n",
    "from statistics import mean\n",
    "import plotly.express as px\n",
    "import plotly.graph_objects as go\n",
    "from scipy.stats import f_oneway\n",
    "import scipy.stats as stats\n",
    "import statsmodels.api as sm\n",
    "from statsmodels.regression.mixed_linear_model import MixedLM\n",
    "import statsmodels.formula.api as smf\n",
    "import seaborn as sns\n",
    "import researchpy as rp"
   ]
  },
  {
   "cell_type": "markdown",
   "metadata": {},
   "source": [
    "---"
   ]
  },
  {
   "cell_type": "code",
   "execution_count": 4,
   "metadata": {},
   "outputs": [
    {
     "data": {
      "text/html": [
       "<div>\n",
       "<style scoped>\n",
       "    .dataframe tbody tr th:only-of-type {\n",
       "        vertical-align: middle;\n",
       "    }\n",
       "\n",
       "    .dataframe tbody tr th {\n",
       "        vertical-align: top;\n",
       "    }\n",
       "\n",
       "    .dataframe thead th {\n",
       "        text-align: right;\n",
       "    }\n",
       "</style>\n",
       "<table border=\"1\" class=\"dataframe\">\n",
       "  <thead>\n",
       "    <tr style=\"text-align: right;\">\n",
       "      <th></th>\n",
       "      <th>date</th>\n",
       "      <th>strain</th>\n",
       "      <th>feed</th>\n",
       "      <th>temp</th>\n",
       "      <th>name</th>\n",
       "      <th>stage</th>\n",
       "      <th>rating</th>\n",
       "      <th>comments</th>\n",
       "      <th>ID</th>\n",
       "      <th>array_vals</th>\n",
       "      <th>array_vals_ni</th>\n",
       "      <th>REP</th>\n",
       "    </tr>\n",
       "  </thead>\n",
       "  <tbody>\n",
       "    <tr>\n",
       "      <th>0</th>\n",
       "      <td>230614</td>\n",
       "      <td>N2</td>\n",
       "      <td>JUB66_RFP</td>\n",
       "      <td>25</td>\n",
       "      <td>image1</td>\n",
       "      <td>YL4</td>\n",
       "      <td>4</td>\n",
       "      <td>comments</td>\n",
       "      <td>00021</td>\n",
       "      <td>[0.011764705882352941, 0.011764705882352941, 0...</td>\n",
       "      <td>[0.011764705882352941, 0.011764705882352941, 0...</td>\n",
       "      <td>1</td>\n",
       "    </tr>\n",
       "    <tr>\n",
       "      <th>1</th>\n",
       "      <td>230614</td>\n",
       "      <td>N2</td>\n",
       "      <td>JUB66_RFP</td>\n",
       "      <td>25</td>\n",
       "      <td>image2</td>\n",
       "      <td>YL4</td>\n",
       "      <td>4</td>\n",
       "      <td>comments</td>\n",
       "      <td>00022</td>\n",
       "      <td>[0.010910200656137941, 0.01151731697290573, 0....</td>\n",
       "      <td>[0.010910200656137941, 0.011764705882352941, 0...</td>\n",
       "      <td>1</td>\n",
       "    </tr>\n",
       "    <tr>\n",
       "      <th>2</th>\n",
       "      <td>230614</td>\n",
       "      <td>N2</td>\n",
       "      <td>JUB66_RFP</td>\n",
       "      <td>25</td>\n",
       "      <td>image3</td>\n",
       "      <td>YL4</td>\n",
       "      <td>5</td>\n",
       "      <td>comments</td>\n",
       "      <td>00023</td>\n",
       "      <td>[0.011764705882352941, 0.011764705882352941, 0...</td>\n",
       "      <td>[0.011764705882352941, 0.011764705882352941, 0...</td>\n",
       "      <td>1</td>\n",
       "    </tr>\n",
       "    <tr>\n",
       "      <th>3</th>\n",
       "      <td>230614</td>\n",
       "      <td>N2</td>\n",
       "      <td>JUB66_RFP</td>\n",
       "      <td>25</td>\n",
       "      <td>image4</td>\n",
       "      <td>YL4</td>\n",
       "      <td>4</td>\n",
       "      <td>comments</td>\n",
       "      <td>00024</td>\n",
       "      <td>[0.011444266422522316, 0.011697760685114819, 0...</td>\n",
       "      <td>[0.011444266422522316, 0.011764705882352941, 0...</td>\n",
       "      <td>1</td>\n",
       "    </tr>\n",
       "    <tr>\n",
       "      <th>4</th>\n",
       "      <td>230614</td>\n",
       "      <td>N2</td>\n",
       "      <td>JUB66_RFP</td>\n",
       "      <td>25</td>\n",
       "      <td>image5</td>\n",
       "      <td>YL4</td>\n",
       "      <td>4</td>\n",
       "      <td>Lots of signal in this one all concentrated n...</td>\n",
       "      <td>00025</td>\n",
       "      <td>[0.011764705882352941, 0.014485120414898868, 0...</td>\n",
       "      <td>[0.011764705882352941, 0.015030136568245976, 0...</td>\n",
       "      <td>1</td>\n",
       "    </tr>\n",
       "    <tr>\n",
       "      <th>...</th>\n",
       "      <td>...</td>\n",
       "      <td>...</td>\n",
       "      <td>...</td>\n",
       "      <td>...</td>\n",
       "      <td>...</td>\n",
       "      <td>...</td>\n",
       "      <td>...</td>\n",
       "      <td>...</td>\n",
       "      <td>...</td>\n",
       "      <td>...</td>\n",
       "      <td>...</td>\n",
       "      <td>...</td>\n",
       "    </tr>\n",
       "    <tr>\n",
       "      <th>85</th>\n",
       "      <td>230721</td>\n",
       "      <td>N2</td>\n",
       "      <td>MK_JUB66_RFP_IN_JUB66</td>\n",
       "      <td>25</td>\n",
       "      <td>image6</td>\n",
       "      <td>L4</td>\n",
       "      <td>4</td>\n",
       "      <td>comments</td>\n",
       "      <td>00106</td>\n",
       "      <td>[0.011764705882352941, 0.011764705882352941, 0...</td>\n",
       "      <td>[0.011764705882352941, 0.011764705882352941, 0...</td>\n",
       "      <td>3</td>\n",
       "    </tr>\n",
       "    <tr>\n",
       "      <th>86</th>\n",
       "      <td>230721</td>\n",
       "      <td>N2</td>\n",
       "      <td>MK_JUB66_RFP_IN_JUB66</td>\n",
       "      <td>25</td>\n",
       "      <td>image7</td>\n",
       "      <td>YL4</td>\n",
       "      <td>4</td>\n",
       "      <td>comments</td>\n",
       "      <td>00107</td>\n",
       "      <td>[0.011764705882352941, 0.011764705882352941, 0...</td>\n",
       "      <td>[0.011764705882352941, 0.011764705882352941, 0...</td>\n",
       "      <td>3</td>\n",
       "    </tr>\n",
       "    <tr>\n",
       "      <th>87</th>\n",
       "      <td>230721</td>\n",
       "      <td>N2</td>\n",
       "      <td>MK_JUB66_RFP_IN_JUB66</td>\n",
       "      <td>25</td>\n",
       "      <td>image8</td>\n",
       "      <td>L4</td>\n",
       "      <td>3</td>\n",
       "      <td>comments</td>\n",
       "      <td>00108</td>\n",
       "      <td>[0.011764705882352941, 0.011764705882352941, 0...</td>\n",
       "      <td>[0.011764705882352941, 0.011764705882352941, 0...</td>\n",
       "      <td>3</td>\n",
       "    </tr>\n",
       "    <tr>\n",
       "      <th>88</th>\n",
       "      <td>230721</td>\n",
       "      <td>N2</td>\n",
       "      <td>MK_JUB66_RFP_IN_JUB66</td>\n",
       "      <td>25</td>\n",
       "      <td>image9</td>\n",
       "      <td>L4</td>\n",
       "      <td>4</td>\n",
       "      <td>comments</td>\n",
       "      <td>00109</td>\n",
       "      <td>[0.011764705882352941, 0.011764705882352941, 0...</td>\n",
       "      <td>[0.011764705882352941, 0.011764705882352941, 0...</td>\n",
       "      <td>3</td>\n",
       "    </tr>\n",
       "    <tr>\n",
       "      <th>89</th>\n",
       "      <td>230721</td>\n",
       "      <td>N2</td>\n",
       "      <td>MK_JUB66_RFP_IN_JUB66</td>\n",
       "      <td>25</td>\n",
       "      <td>image10</td>\n",
       "      <td>L4</td>\n",
       "      <td>3</td>\n",
       "      <td>comments</td>\n",
       "      <td>00110</td>\n",
       "      <td>[0.011764705882352941, 0.011764705882352941, 0...</td>\n",
       "      <td>[0.011764705882352941, 0.011764705882352941, 0...</td>\n",
       "      <td>3</td>\n",
       "    </tr>\n",
       "  </tbody>\n",
       "</table>\n",
       "<p>90 rows × 12 columns</p>\n",
       "</div>"
      ],
      "text/plain": [
       "      date strain                   feed temp     name stage rating   \n",
       "0   230614     N2              JUB66_RFP   25   image1   YL4      4  \\\n",
       "1   230614     N2              JUB66_RFP   25   image2   YL4      4   \n",
       "2   230614     N2              JUB66_RFP   25   image3   YL4      5   \n",
       "3   230614     N2              JUB66_RFP   25   image4   YL4      4   \n",
       "4   230614     N2              JUB66_RFP   25   image5   YL4      4   \n",
       "..     ...    ...                    ...  ...      ...   ...    ...   \n",
       "85  230721     N2  MK_JUB66_RFP_IN_JUB66   25   image6    L4      4   \n",
       "86  230721     N2  MK_JUB66_RFP_IN_JUB66   25   image7   YL4      4   \n",
       "87  230721     N2  MK_JUB66_RFP_IN_JUB66   25   image8    L4      3   \n",
       "88  230721     N2  MK_JUB66_RFP_IN_JUB66   25   image9    L4      4   \n",
       "89  230721     N2  MK_JUB66_RFP_IN_JUB66   25  image10    L4      3   \n",
       "\n",
       "                                             comments     ID   \n",
       "0                                            comments  00021  \\\n",
       "1                                            comments  00022   \n",
       "2                                            comments  00023   \n",
       "3                                            comments  00024   \n",
       "4    Lots of signal in this one all concentrated n...  00025   \n",
       "..                                                ...    ...   \n",
       "85                                           comments  00106   \n",
       "86                                           comments  00107   \n",
       "87                                           comments  00108   \n",
       "88                                           comments  00109   \n",
       "89                                           comments  00110   \n",
       "\n",
       "                                           array_vals   \n",
       "0   [0.011764705882352941, 0.011764705882352941, 0...  \\\n",
       "1   [0.010910200656137941, 0.01151731697290573, 0....   \n",
       "2   [0.011764705882352941, 0.011764705882352941, 0...   \n",
       "3   [0.011444266422522316, 0.011697760685114819, 0...   \n",
       "4   [0.011764705882352941, 0.014485120414898868, 0...   \n",
       "..                                                ...   \n",
       "85  [0.011764705882352941, 0.011764705882352941, 0...   \n",
       "86  [0.011764705882352941, 0.011764705882352941, 0...   \n",
       "87  [0.011764705882352941, 0.011764705882352941, 0...   \n",
       "88  [0.011764705882352941, 0.011764705882352941, 0...   \n",
       "89  [0.011764705882352941, 0.011764705882352941, 0...   \n",
       "\n",
       "                                        array_vals_ni  REP  \n",
       "0   [0.011764705882352941, 0.011764705882352941, 0...    1  \n",
       "1   [0.010910200656137941, 0.011764705882352941, 0...    1  \n",
       "2   [0.011764705882352941, 0.011764705882352941, 0...    1  \n",
       "3   [0.011444266422522316, 0.011764705882352941, 0...    1  \n",
       "4   [0.011764705882352941, 0.015030136568245976, 0...    1  \n",
       "..                                                ...  ...  \n",
       "85  [0.011764705882352941, 0.011764705882352941, 0...    3  \n",
       "86  [0.011764705882352941, 0.011764705882352941, 0...    3  \n",
       "87  [0.011764705882352941, 0.011764705882352941, 0...    3  \n",
       "88  [0.011764705882352941, 0.011764705882352941, 0...    3  \n",
       "89  [0.011764705882352941, 0.011764705882352941, 0...    3  \n",
       "\n",
       "[90 rows x 12 columns]"
      ]
     },
     "execution_count": 4,
     "metadata": {},
     "output_type": "execute_result"
    }
   ],
   "source": [
    "# read in a pandas dataframe containing our image arrays along with some metadata \n",
    "data = pd.read_pickle(\"/Volumes/onishlab_shared/PROJECTS/30_Andrew/03_IMAGING_DATABASE/IMDB.pkl\")\n",
    "data"
   ]
  },
  {
   "cell_type": "code",
   "execution_count": 61,
   "metadata": {},
   "outputs": [
    {
     "name": "stdout",
     "output_type": "stream",
     "text": [
      "                     diet                                               data   \n",
      "0               JUB66_RFP  [0.011764705882352941, 0.011764705882352941, 0...  \\\n",
      "1               JUB66_RFP  [0.010910200656137941, 0.01151731697290573, 0....   \n",
      "2               JUB66_RFP  [0.011764705882352941, 0.011764705882352941, 0...   \n",
      "3               JUB66_RFP  [0.011444266422522316, 0.011697760685114819, 0...   \n",
      "4               JUB66_RFP  [0.011764705882352941, 0.014485120414898868, 0...   \n",
      "..                    ...                                                ...   \n",
      "85  MK_JUB66_RFP_IN_JUB66  [0.011764705882352941, 0.011764705882352941, 0...   \n",
      "86  MK_JUB66_RFP_IN_JUB66  [0.011764705882352941, 0.011764705882352941, 0...   \n",
      "87  MK_JUB66_RFP_IN_JUB66  [0.011764705882352941, 0.011764705882352941, 0...   \n",
      "88  MK_JUB66_RFP_IN_JUB66  [0.011764705882352941, 0.011764705882352941, 0...   \n",
      "89  MK_JUB66_RFP_IN_JUB66  [0.011764705882352941, 0.011764705882352941, 0...   \n",
      "\n",
      "    rep     ID  \n",
      "0     1  00021  \n",
      "1     1  00022  \n",
      "2     1  00023  \n",
      "3     1  00024  \n",
      "4     1  00025  \n",
      "..  ...    ...  \n",
      "85    3  00106  \n",
      "86    3  00107  \n",
      "87    3  00108  \n",
      "88    3  00109  \n",
      "89    3  00110  \n",
      "\n",
      "[90 rows x 4 columns]\n"
     ]
    }
   ],
   "source": [
    "# make an array of the interpolated data\n",
    "arr_data = data[\"array_vals\"].values\n",
    "arr_data\n",
    "\n",
    "# make an array of the strain names\n",
    "arr_diet = data[\"feed\"].values\n",
    "arr_diet\n",
    "\n",
    "# make an array of the image REP\n",
    "arr_rep = data[\"REP\"].values\n",
    "arr_rep\n",
    "\n",
    "# make an array of the image IDs\n",
    "arr_ID = data[\"ID\"].values\n",
    "arr_ID\n",
    "\n",
    "# make an dataframe of the above\n",
    "df = pd.DataFrame({'diet':arr_diet, 'data':arr_data, 'rep':arr_rep, 'ID':arr_ID})\n",
    "print(df)"
   ]
  },
  {
   "cell_type": "code",
   "execution_count": 62,
   "metadata": {},
   "outputs": [
    {
     "data": {
      "text/plain": [
       "(3500,)"
      ]
     },
     "execution_count": 62,
     "metadata": {},
     "output_type": "execute_result"
    }
   ],
   "source": [
    "# check how long the arrays are\n",
    "arr_data[0].shape"
   ]
  },
  {
   "cell_type": "code",
   "execution_count": 63,
   "metadata": {},
   "outputs": [
    {
     "name": "stdout",
     "output_type": "stream",
     "text": [
      "                                                 data                   diet   \n",
      "20  [0.01095597772182803, 0.013186978424314324, 0....  MK_JUB66_RFP_IN_JUB66  \\\n",
      "21  [0.011764705882352941, 0.011764705882352941, 0...  MK_JUB66_RFP_IN_JUB66   \n",
      "22  [0.013626306553749905, 0.014331021301511709, 0...  MK_JUB66_RFP_IN_JUB66   \n",
      "23  [0.011764705882352941, 0.011764705882352941, 0...  MK_JUB66_RFP_IN_JUB66   \n",
      "24  [0.011764705882352941, 0.011764705882352941, 0...  MK_JUB66_RFP_IN_JUB66   \n",
      "25  [0.008178835736629282, 0.010840311806490484, 0...  MK_JUB66_RFP_IN_JUB66   \n",
      "26  [0.010681315327687495, 0.01143627713183505, 0....  MK_JUB66_RFP_IN_JUB66   \n",
      "27  [0.012008850232700085, 0.013545585063236087, 0...  MK_JUB66_RFP_IN_JUB66   \n",
      "28  [0.011596856641489281, 0.011720285077254413, 0...  MK_JUB66_RFP_IN_JUB66   \n",
      "29  [0.011764705882352941, 0.011764705882352941, 0...  MK_JUB66_RFP_IN_JUB66   \n",
      "50  [1.5259021893143654e-05, 1.5259021893143654e-0...  MK_JUB66_RFP_IN_JUB66   \n",
      "51  [0.011764705882352941, 0.011764705882352941, 0...  MK_JUB66_RFP_IN_JUB66   \n",
      "52  [0.01168841077286946, 0.011660230207137407, 0....  MK_JUB66_RFP_IN_JUB66   \n",
      "53  [0.011764705882352941, 0.011764705882352941, 0...  MK_JUB66_RFP_IN_JUB66   \n",
      "54  [0.011322194247348745, 0.011719683263872948, 0...  MK_JUB66_RFP_IN_JUB66   \n",
      "55  [0.00784313725490196, 0.010993617223968752, 0....  MK_JUB66_RFP_IN_JUB66   \n",
      "56  [0.011764705882352941, 0.011764705882352941, 0...  MK_JUB66_RFP_IN_JUB66   \n",
      "57  [0.011413748378728923, 0.011726891941550925, 0...  MK_JUB66_RFP_IN_JUB66   \n",
      "58  [0.00784313725490196, 0.009783889468861096, 0....  MK_JUB66_RFP_IN_JUB66   \n",
      "59  [0.011764705882352941, 0.011764705882352941, 0...  MK_JUB66_RFP_IN_JUB66   \n",
      "80  [0.011764705882352941, 0.014304314742467591, 0...  MK_JUB66_RFP_IN_JUB66   \n",
      "81  [0.01943999389639124, 0.01876134900655983, 0.0...  MK_JUB66_RFP_IN_JUB66   \n",
      "82  [0.01530479896238651, 0.014395158036302997, 0....  MK_JUB66_RFP_IN_JUB66   \n",
      "83  [0.01568627450980392, 0.015235878247309235, 0....  MK_JUB66_RFP_IN_JUB66   \n",
      "84  [0.011764705882352941, 0.011764705882352941, 0...  MK_JUB66_RFP_IN_JUB66   \n",
      "85  [0.011764705882352941, 0.011764705882352941, 0...  MK_JUB66_RFP_IN_JUB66   \n",
      "86  [0.011764705882352941, 0.011764705882352941, 0...  MK_JUB66_RFP_IN_JUB66   \n",
      "87  [0.011764705882352941, 0.011764705882352941, 0...  MK_JUB66_RFP_IN_JUB66   \n",
      "88  [0.011764705882352941, 0.011764705882352941, 0...  MK_JUB66_RFP_IN_JUB66   \n",
      "89  [0.011764705882352941, 0.011764705882352941, 0...  MK_JUB66_RFP_IN_JUB66   \n",
      "\n",
      "    rep     ID  \n",
      "20    1  00041  \n",
      "21    1  00042  \n",
      "22    1  00043  \n",
      "23    1  00044  \n",
      "24    1  00045  \n",
      "25    1  00046  \n",
      "26    1  00047  \n",
      "27    1  00048  \n",
      "28    1  00049  \n",
      "29    1  00050  \n",
      "50    2  00071  \n",
      "51    2  00072  \n",
      "52    2  00073  \n",
      "53    2  00074  \n",
      "54    2  00075  \n",
      "55    2  00076  \n",
      "56    2  00077  \n",
      "57    2  00078  \n",
      "58    2  00079  \n",
      "59    2  00080  \n",
      "80    3  00101  \n",
      "81    3  00102  \n",
      "82    3  00103  \n",
      "83    3  00104  \n",
      "84    3  00105  \n",
      "85    3  00106  \n",
      "86    3  00107  \n",
      "87    3  00108  \n",
      "88    3  00109  \n",
      "89    3  00110  \n"
     ]
    }
   ],
   "source": [
    "# split the sample array values into their respective groups \n",
    "\n",
    "JUB66_RFP = df[df['diet'] == 'JUB66_RFP']\n",
    "JUB66_RFP = JUB66_RFP[['data', 'diet', 'rep', 'ID']]\n",
    "JUB66_RFP_arr = np.array(JUB66_RFP['data'])\n",
    "JUB66_RFP['data'] = JUB66_RFP_arr\n",
    "\n",
    "JUB66_RFP_IN_CEMBIO = df[df['diet'] == 'JUB66_RFP_IN_CEMBIO']\n",
    "JUB66_RFP_IN_CEMBIO = JUB66_RFP_IN_CEMBIO[['data', 'diet', 'rep', 'ID']]\n",
    "JUB66_RFP_IN_CEMBIO_arr = np.array(JUB66_RFP_IN_CEMBIO['data'])\n",
    "JUB66_RFP_IN_CEMBIO['data'] = JUB66_RFP_IN_CEMBIO_arr\n",
    "\n",
    "MK_JUB66_RFP = df[df['diet'] == 'MK_JUB66_RFP_IN_JUB66']\n",
    "MK_JUB66_RFP = MK_JUB66_RFP[['data', 'diet', 'rep', 'ID']]\n",
    "MK_JUB66_RFP_arr = np.array(MK_JUB66_RFP['data'])\n",
    "MK_JUB66_RFP['data'] = MK_JUB66_RFP_arr\n",
    "\n",
    "print(MK_JUB66_RFP)"
   ]
  },
  {
   "cell_type": "code",
   "execution_count": 107,
   "metadata": {},
   "outputs": [
    {
     "name": "stdout",
     "output_type": "stream",
     "text": [
      "                part_ID                                        part_values   \n",
      "0    Part 1 of Sample 1  [0.011764705882352941, 0.011764705882352941, 0...  \\\n",
      "1    Part 2 of Sample 1  [0.025523367770359757, 0.023906077166038122, 0...   \n",
      "2    Part 3 of Sample 1  [0.02475842807478648, 0.019767319322377477, 0....   \n",
      "3    Part 1 of Sample 2  [0.010910200656137941, 0.01151731697290573, 0....   \n",
      "4    Part 2 of Sample 2  [0.01298466010397897, 0.011976413363632319, 0....   \n",
      "..                  ...                                                ...   \n",
      "85  Part 2 of Sample 29  [0.0, 0.0, 0.0, 0.0, 0.0, 0.0, 0.0, 0.0, 0.0, ...   \n",
      "86  Part 3 of Sample 29  [0.0, 0.0, 0.0, 0.0, 0.0, 0.0, 0.0, 0.0, 0.0, ...   \n",
      "87  Part 1 of Sample 30  [0.011764705882352941, 0.011764705882352941, 0...   \n",
      "88  Part 2 of Sample 30  [0.011602674170843437, 0.011702954596254842, 0...   \n",
      "89  Part 3 of Sample 30  [0.011764705882352941, 0.011743162707683157, 0...   \n",
      "\n",
      "      row_sum    REP  sample_ID       diet  \n",
      "0   25.579351  Rep 1          1  JUB66_RFP  \n",
      "1   33.152957  Rep 1          1  JUB66_RFP  \n",
      "2   26.855949  Rep 1          1  JUB66_RFP  \n",
      "3   18.363878  Rep 1          2  JUB66_RFP  \n",
      "4   19.861612  Rep 1          2  JUB66_RFP  \n",
      "..        ...    ...        ...        ...  \n",
      "85   0.000000  Rep 3         29  JUB66_RFP  \n",
      "86   0.000000  Rep 3         29  JUB66_RFP  \n",
      "87  15.149099  Rep 3         30  JUB66_RFP  \n",
      "88  15.099196  Rep 3         30  JUB66_RFP  \n",
      "89  13.825945  Rep 3         30  JUB66_RFP  \n",
      "\n",
      "[90 rows x 6 columns]\n"
     ]
    },
    {
     "data": {
      "text/plain": [
       "(90, 6)"
      ]
     },
     "execution_count": 107,
     "metadata": {},
     "output_type": "execute_result"
    }
   ],
   "source": [
    "# loop through each sample in the JUB66_RFP group and split the array into 3rds, representing the Anterior, Middle, and Posterior regions\n",
    "\n",
    "new_array = []\n",
    "\n",
    "# Loop through each sample in JUB66_RFP\n",
    "for index, sample in enumerate(JUB66_RFP['data']):\n",
    "    \n",
    "    # Split the sample into three parts\n",
    "    split_sample = np.array_split(sample, len(sample) % 13)\n",
    "    \n",
    "    # Append the split sample along with the part label to the new array\n",
    "    for part_index, part in enumerate(split_sample):\n",
    "        part_label = f\"Part {part_index+1} of Sample {index+1}\"\n",
    "        new_array.append((part_label, part))\n",
    "               \n",
    "new_JUB66_RFP_df = pd.DataFrame(new_array) \n",
    "\n",
    "new_JUB66_RFP_df.columns = ['part_ID', 'part_values']\n",
    "\n",
    "# Create a new column to store the row sums\n",
    "new_JUB66_RFP_df['row_sum'] = 0\n",
    "\n",
    "# Iterate through each sample in the dataframe\n",
    "for index, row in new_JUB66_RFP_df.iterrows():\n",
    "    \n",
    "    # Calculate the sum of the array or row\n",
    "    row_sum = sum(row['part_values'])\n",
    "    \n",
    "    # Assign the row sum to the 'row_sum' column\n",
    "    new_JUB66_RFP_df.at[index, 'row_sum'] = row_sum\n",
    "\n",
    "# Add a few more columns for REP, an arbitrary sample ID, and diet to our new df\n",
    "rep1 = ['Rep 1'] * 30\n",
    "rep2 = ['Rep 2'] * 30\n",
    "rep3 = ['Rep 3'] * 30\n",
    "rep_seq = rep1 + rep2 + rep3\n",
    "new_JUB66_RFP_df['REP'] = rep_seq\n",
    "\n",
    "sample_ID = [num for num in range(1, 31) for _ in range(3)]\n",
    "#print(sample_ID)\n",
    "#len(sample_ID)\n",
    "new_JUB66_RFP_df['sample_ID'] = sample_ID\n",
    "\n",
    "mono = ['JUB66_RFP'] * 90\n",
    "new_JUB66_RFP_df['diet'] = mono\n",
    "\n",
    "# Print the updated dataframe\n",
    "print(new_JUB66_RFP_df)\n",
    "new_JUB66_RFP_df.shape"
   ]
  },
  {
   "cell_type": "code",
   "execution_count": 113,
   "metadata": {},
   "outputs": [
    {
     "name": "stdout",
     "output_type": "stream",
     "text": [
      "                part_ID                                        part_values   \n",
      "0    Part 1 of Sample 1  [0.011764705882352941, 0.027729681041306353, 0...  \\\n",
      "1    Part 2 of Sample 1  [0.011764705882352941, 0.011764705882352941, 0...   \n",
      "2    Part 3 of Sample 1  [0.015588959541634561, 0.017733364531687883, 0...   \n",
      "3    Part 1 of Sample 2  [0.6690318150606546, 0.5840002941035829, 0.457...   \n",
      "4    Part 2 of Sample 2  [0.016155845942141332, 0.017308632557236053, 0...   \n",
      "..                  ...                                                ...   \n",
      "85  Part 2 of Sample 29  [0.01568627450980392, 0.015383004175211108, 0....   \n",
      "86  Part 3 of Sample 29  [0.012402226857784117, 0.011764705882352941, 0...   \n",
      "87  Part 1 of Sample 30  [0.010589761196307317, 0.011638111384885321, 0...   \n",
      "88  Part 2 of Sample 30  [0.011764705882352941, 0.011832745682190707, 0...   \n",
      "89  Part 3 of Sample 30  [0.015015906734450859, 0.014911435420202004, 0...   \n",
      "\n",
      "      row_sum    REP  sample_ID                 diet  \n",
      "0   27.085011  Rep 1         31  JUB66_RFP_IN_CEMBIO  \n",
      "1   15.466014  Rep 1         31  JUB66_RFP_IN_CEMBIO  \n",
      "2   16.456388  Rep 1         31  JUB66_RFP_IN_CEMBIO  \n",
      "3   35.277341  Rep 1         32  JUB66_RFP_IN_CEMBIO  \n",
      "4   44.377190  Rep 1         32  JUB66_RFP_IN_CEMBIO  \n",
      "..        ...    ...        ...                  ...  \n",
      "85  21.250953  Rep 3         59  JUB66_RFP_IN_CEMBIO  \n",
      "86  15.398110  Rep 3         59  JUB66_RFP_IN_CEMBIO  \n",
      "87  30.475215  Rep 3         60  JUB66_RFP_IN_CEMBIO  \n",
      "88  18.653169  Rep 3         60  JUB66_RFP_IN_CEMBIO  \n",
      "89  34.582893  Rep 3         60  JUB66_RFP_IN_CEMBIO  \n",
      "\n",
      "[90 rows x 6 columns]\n"
     ]
    },
    {
     "data": {
      "text/plain": [
       "(90, 6)"
      ]
     },
     "execution_count": 113,
     "metadata": {},
     "output_type": "execute_result"
    }
   ],
   "source": [
    "# loop through each sample in the JUB66_RFP_IN_CEMBIO group and split the array into 3rds, representing the Anterior, Middle, and Posterior regions\n",
    "\n",
    "new_array = []\n",
    "\n",
    "# Loop through each sample in JUB66_RFP_IN_CEMBIO\n",
    "for index, sample in enumerate(JUB66_RFP_IN_CEMBIO['data']):\n",
    "    \n",
    "    # Split the sample into three parts\n",
    "    split_sample = np.array_split(sample, len(sample) % 13)\n",
    "    \n",
    "    # Append the split sample along with the part label to the new array\n",
    "    for part_index, part in enumerate(split_sample):\n",
    "        part_label = f\"Part {part_index+1} of Sample {index+1}\"\n",
    "        new_array.append((part_label, part))\n",
    "               \n",
    "new_JUB66_RFP_IN_CEMBIO_df = pd.DataFrame(new_array) \n",
    "\n",
    "new_JUB66_RFP_IN_CEMBIO_df.columns = ['part_ID', 'part_values']\n",
    "\n",
    "# Create a new column to store the row sums\n",
    "new_JUB66_RFP_IN_CEMBIO_df['row_sum'] = 0\n",
    "\n",
    "# Iterate through each sample in the dataframe\n",
    "for index, row in new_JUB66_RFP_IN_CEMBIO_df.iterrows():\n",
    "    \n",
    "    # Calculate the sum of the array or row\n",
    "    row_sum = sum(row['part_values'])\n",
    "    \n",
    "    # Assign the row sum to the 'row_sum' column\n",
    "    new_JUB66_RFP_IN_CEMBIO_df.at[index, 'row_sum'] = row_sum\n",
    "\n",
    "# Add a few more columns for REP, an arbitrary sample ID, and diet to our new df\n",
    "rep1 = ['Rep 1'] * 30\n",
    "rep2 = ['Rep 2'] * 30\n",
    "rep3 = ['Rep 3'] * 30\n",
    "rep_seq = rep1 + rep2 + rep3\n",
    "new_JUB66_RFP_IN_CEMBIO_df['REP'] = rep_seq\n",
    "\n",
    "sample_ID = [num for num in range(31, 61) for _ in range(3)]\n",
    "#print(sample_ID)\n",
    "#len(sample_ID)\n",
    "new_JUB66_RFP_IN_CEMBIO_df['sample_ID'] = sample_ID\n",
    "\n",
    "comm = ['JUB66_RFP_IN_CEMBIO'] * 90\n",
    "new_JUB66_RFP_IN_CEMBIO_df['diet'] = comm\n",
    "\n",
    "# Print the updated dataframe\n",
    "print(new_JUB66_RFP_IN_CEMBIO_df)\n",
    "new_JUB66_RFP_IN_CEMBIO_df.shape"
   ]
  },
  {
   "cell_type": "code",
   "execution_count": 114,
   "metadata": {},
   "outputs": [
    {
     "name": "stdout",
     "output_type": "stream",
     "text": [
      "                part_ID                                        part_values   \n",
      "0    Part 1 of Sample 1  [0.01095597772182803, 0.013186978424314324, 0....  \\\n",
      "1    Part 2 of Sample 1  [0.02313281238535424, 0.021492670316403076, 0....   \n",
      "2    Part 3 of Sample 1  [0.011764705882352941, 0.011764705882352941, 0...   \n",
      "3    Part 1 of Sample 2  [0.011764705882352941, 0.011764705882352941, 0...   \n",
      "4    Part 2 of Sample 2  [0.011225341541631791, 0.011637016782285747, 0...   \n",
      "..                  ...                                                ...   \n",
      "85  Part 2 of Sample 29  [0.011764705882352941, 0.011764705882352941, 0...   \n",
      "86  Part 3 of Sample 29  [0.011764705882352941, 0.011764705882352941, 0...   \n",
      "87  Part 1 of Sample 30  [0.011764705882352941, 0.011764705882352941, 0...   \n",
      "88  Part 2 of Sample 30  [0.011764705882352941, 0.011764705882352941, 0...   \n",
      "89  Part 3 of Sample 30  [0.01279427338807597, 0.01568627450980392, 0.0...   \n",
      "\n",
      "      row_sum    REP  sample_ID          diet  \n",
      "0   18.125678  Rep 1         61  MK_JUB66_RFP  \n",
      "1   17.448668  Rep 1         61  MK_JUB66_RFP  \n",
      "2   16.894513  Rep 1         61  MK_JUB66_RFP  \n",
      "3   15.720184  Rep 1         62  MK_JUB66_RFP  \n",
      "4   14.900866  Rep 1         62  MK_JUB66_RFP  \n",
      "..        ...    ...        ...           ...  \n",
      "85  18.335350  Rep 3         89  MK_JUB66_RFP  \n",
      "86  15.781216  Rep 3         89  MK_JUB66_RFP  \n",
      "87  18.244084  Rep 3         90  MK_JUB66_RFP  \n",
      "88  17.078793  Rep 3         90  MK_JUB66_RFP  \n",
      "89  16.651574  Rep 3         90  MK_JUB66_RFP  \n",
      "\n",
      "[90 rows x 6 columns]\n"
     ]
    },
    {
     "data": {
      "text/plain": [
       "(90, 6)"
      ]
     },
     "execution_count": 114,
     "metadata": {},
     "output_type": "execute_result"
    }
   ],
   "source": [
    "# loop through each sample in the MK_JUB66_RFP group and split the array into 3rds, representing the Anterior, Middle, and Posterior regions\n",
    "\n",
    "new_array = []\n",
    "\n",
    "# Loop through each sample in MK_JUB66_RFP\n",
    "for index, sample in enumerate(MK_JUB66_RFP['data']):\n",
    "    \n",
    "    # Split the sample into three parts\n",
    "    split_sample = np.array_split(sample, len(sample) % 13)\n",
    "    \n",
    "    # Append the split sample along with the part label to the new array\n",
    "    for part_index, part in enumerate(split_sample):\n",
    "        part_label = f\"Part {part_index+1} of Sample {index+1}\"\n",
    "        new_array.append((part_label, part))\n",
    "               \n",
    "new_MK_JUB66_RFP_df = pd.DataFrame(new_array) \n",
    "\n",
    "new_MK_JUB66_RFP_df.columns = ['part_ID', 'part_values']\n",
    "\n",
    "# Create a new column to store the row sums\n",
    "new_MK_JUB66_RFP_df['row_sum'] = 0\n",
    "\n",
    "# Iterate through each sample in the dataframe\n",
    "for index, row in new_MK_JUB66_RFP_df.iterrows():\n",
    "    \n",
    "    # Calculate the sum of the array or row\n",
    "    row_sum = sum(row['part_values'])\n",
    "    \n",
    "    # Assign the row sum to the 'row_sum' column\n",
    "    new_MK_JUB66_RFP_df.at[index, 'row_sum'] = row_sum\n",
    "\n",
    "# Add a few more columns for REP, an arbitrary sample ID, and diet to our new df\n",
    "rep1 = ['Rep 1'] * 30\n",
    "rep2 = ['Rep 2'] * 30\n",
    "rep3 = ['Rep 3'] * 30\n",
    "rep_seq = rep1 + rep2 + rep3\n",
    "new_MK_JUB66_RFP_df['REP'] = rep_seq\n",
    "\n",
    "sample_ID = [num for num in range(61, 91) for _ in range(3)]\n",
    "#print(sample_ID)\n",
    "#len(sample_ID)\n",
    "new_MK_JUB66_RFP_df['sample_ID'] = sample_ID\n",
    "\n",
    "mk = ['MK_JUB66_RFP'] * 90\n",
    "new_MK_JUB66_RFP_df['diet'] = mk\n",
    "\n",
    "# Print the updated dataframe\n",
    "print(new_MK_JUB66_RFP_df)\n",
    "new_MK_JUB66_RFP_df.shape  "
   ]
  },
  {
   "cell_type": "code",
   "execution_count": 115,
   "metadata": {},
   "outputs": [
    {
     "name": "stdout",
     "output_type": "stream",
     "text": [
      "                part_ID                                        part_values   \n",
      "0    Part 1 of Sample 1  [0.011764705882352941, 0.011764705882352941, 0...  \\\n",
      "1    Part 2 of Sample 1  [0.025523367770359757, 0.023906077166038122, 0...   \n",
      "2    Part 3 of Sample 1  [0.02475842807478648, 0.019767319322377477, 0....   \n",
      "3    Part 1 of Sample 2  [0.010910200656137941, 0.01151731697290573, 0....   \n",
      "4    Part 2 of Sample 2  [0.01298466010397897, 0.011976413363632319, 0....   \n",
      "..                  ...                                                ...   \n",
      "85  Part 2 of Sample 29  [0.011764705882352941, 0.011764705882352941, 0...   \n",
      "86  Part 3 of Sample 29  [0.011764705882352941, 0.011764705882352941, 0...   \n",
      "87  Part 1 of Sample 30  [0.011764705882352941, 0.011764705882352941, 0...   \n",
      "88  Part 2 of Sample 30  [0.011764705882352941, 0.011764705882352941, 0...   \n",
      "89  Part 3 of Sample 30  [0.01279427338807597, 0.01568627450980392, 0.0...   \n",
      "\n",
      "      row_sum    REP  sample_ID          diet  \n",
      "0   25.579351  Rep 1          1     JUB66_RFP  \n",
      "1   33.152957  Rep 1          1     JUB66_RFP  \n",
      "2   26.855949  Rep 1          1     JUB66_RFP  \n",
      "3   18.363878  Rep 1          2     JUB66_RFP  \n",
      "4   19.861612  Rep 1          2     JUB66_RFP  \n",
      "..        ...    ...        ...           ...  \n",
      "85  18.335350  Rep 3         89  MK_JUB66_RFP  \n",
      "86  15.781216  Rep 3         89  MK_JUB66_RFP  \n",
      "87  18.244084  Rep 3         90  MK_JUB66_RFP  \n",
      "88  17.078793  Rep 3         90  MK_JUB66_RFP  \n",
      "89  16.651574  Rep 3         90  MK_JUB66_RFP  \n",
      "\n",
      "[270 rows x 6 columns]\n"
     ]
    }
   ],
   "source": [
    "# combine all the seperate DFs back into one\n",
    "\n",
    "combined_df = pd.concat([new_JUB66_RFP_df, new_JUB66_RFP_IN_CEMBIO_df, new_MK_JUB66_RFP_df])\n",
    "print(combined_df)"
   ]
  },
  {
   "cell_type": "code",
   "execution_count": 116,
   "metadata": {},
   "outputs": [
    {
     "data": {
      "text/html": [
       "<div>\n",
       "<style scoped>\n",
       "    .dataframe tbody tr th:only-of-type {\n",
       "        vertical-align: middle;\n",
       "    }\n",
       "\n",
       "    .dataframe tbody tr th {\n",
       "        vertical-align: top;\n",
       "    }\n",
       "\n",
       "    .dataframe thead th {\n",
       "        text-align: right;\n",
       "    }\n",
       "</style>\n",
       "<table border=\"1\" class=\"dataframe\">\n",
       "  <thead>\n",
       "    <tr style=\"text-align: right;\">\n",
       "      <th></th>\n",
       "      <th>part_ID</th>\n",
       "      <th>part_values</th>\n",
       "      <th>row_sum</th>\n",
       "      <th>REP</th>\n",
       "      <th>sample_ID</th>\n",
       "      <th>diet</th>\n",
       "      <th>part</th>\n",
       "    </tr>\n",
       "  </thead>\n",
       "  <tbody>\n",
       "    <tr>\n",
       "      <th>0</th>\n",
       "      <td>Part 1 of Sample 1</td>\n",
       "      <td>[0.011764705882352941, 0.011764705882352941, 0...</td>\n",
       "      <td>25.579351</td>\n",
       "      <td>Rep 1</td>\n",
       "      <td>1</td>\n",
       "      <td>JUB66_RFP</td>\n",
       "      <td>part 1</td>\n",
       "    </tr>\n",
       "    <tr>\n",
       "      <th>1</th>\n",
       "      <td>Part 2 of Sample 1</td>\n",
       "      <td>[0.025523367770359757, 0.023906077166038122, 0...</td>\n",
       "      <td>33.152957</td>\n",
       "      <td>Rep 1</td>\n",
       "      <td>1</td>\n",
       "      <td>JUB66_RFP</td>\n",
       "      <td>part 2</td>\n",
       "    </tr>\n",
       "    <tr>\n",
       "      <th>2</th>\n",
       "      <td>Part 3 of Sample 1</td>\n",
       "      <td>[0.02475842807478648, 0.019767319322377477, 0....</td>\n",
       "      <td>26.855949</td>\n",
       "      <td>Rep 1</td>\n",
       "      <td>1</td>\n",
       "      <td>JUB66_RFP</td>\n",
       "      <td>part 3</td>\n",
       "    </tr>\n",
       "    <tr>\n",
       "      <th>3</th>\n",
       "      <td>Part 1 of Sample 2</td>\n",
       "      <td>[0.010910200656137941, 0.01151731697290573, 0....</td>\n",
       "      <td>18.363878</td>\n",
       "      <td>Rep 1</td>\n",
       "      <td>2</td>\n",
       "      <td>JUB66_RFP</td>\n",
       "      <td>part 1</td>\n",
       "    </tr>\n",
       "    <tr>\n",
       "      <th>4</th>\n",
       "      <td>Part 2 of Sample 2</td>\n",
       "      <td>[0.01298466010397897, 0.011976413363632319, 0....</td>\n",
       "      <td>19.861612</td>\n",
       "      <td>Rep 1</td>\n",
       "      <td>2</td>\n",
       "      <td>JUB66_RFP</td>\n",
       "      <td>part 2</td>\n",
       "    </tr>\n",
       "    <tr>\n",
       "      <th>...</th>\n",
       "      <td>...</td>\n",
       "      <td>...</td>\n",
       "      <td>...</td>\n",
       "      <td>...</td>\n",
       "      <td>...</td>\n",
       "      <td>...</td>\n",
       "      <td>...</td>\n",
       "    </tr>\n",
       "    <tr>\n",
       "      <th>85</th>\n",
       "      <td>Part 2 of Sample 29</td>\n",
       "      <td>[0.011764705882352941, 0.011764705882352941, 0...</td>\n",
       "      <td>18.335350</td>\n",
       "      <td>Rep 3</td>\n",
       "      <td>89</td>\n",
       "      <td>MK_JUB66_RFP</td>\n",
       "      <td>part 2</td>\n",
       "    </tr>\n",
       "    <tr>\n",
       "      <th>86</th>\n",
       "      <td>Part 3 of Sample 29</td>\n",
       "      <td>[0.011764705882352941, 0.011764705882352941, 0...</td>\n",
       "      <td>15.781216</td>\n",
       "      <td>Rep 3</td>\n",
       "      <td>89</td>\n",
       "      <td>MK_JUB66_RFP</td>\n",
       "      <td>part 3</td>\n",
       "    </tr>\n",
       "    <tr>\n",
       "      <th>87</th>\n",
       "      <td>Part 1 of Sample 30</td>\n",
       "      <td>[0.011764705882352941, 0.011764705882352941, 0...</td>\n",
       "      <td>18.244084</td>\n",
       "      <td>Rep 3</td>\n",
       "      <td>90</td>\n",
       "      <td>MK_JUB66_RFP</td>\n",
       "      <td>part 1</td>\n",
       "    </tr>\n",
       "    <tr>\n",
       "      <th>88</th>\n",
       "      <td>Part 2 of Sample 30</td>\n",
       "      <td>[0.011764705882352941, 0.011764705882352941, 0...</td>\n",
       "      <td>17.078793</td>\n",
       "      <td>Rep 3</td>\n",
       "      <td>90</td>\n",
       "      <td>MK_JUB66_RFP</td>\n",
       "      <td>part 2</td>\n",
       "    </tr>\n",
       "    <tr>\n",
       "      <th>89</th>\n",
       "      <td>Part 3 of Sample 30</td>\n",
       "      <td>[0.01279427338807597, 0.01568627450980392, 0.0...</td>\n",
       "      <td>16.651574</td>\n",
       "      <td>Rep 3</td>\n",
       "      <td>90</td>\n",
       "      <td>MK_JUB66_RFP</td>\n",
       "      <td>part 3</td>\n",
       "    </tr>\n",
       "  </tbody>\n",
       "</table>\n",
       "<p>270 rows × 7 columns</p>\n",
       "</div>"
      ],
      "text/plain": [
       "                part_ID                                        part_values   \n",
       "0    Part 1 of Sample 1  [0.011764705882352941, 0.011764705882352941, 0...  \\\n",
       "1    Part 2 of Sample 1  [0.025523367770359757, 0.023906077166038122, 0...   \n",
       "2    Part 3 of Sample 1  [0.02475842807478648, 0.019767319322377477, 0....   \n",
       "3    Part 1 of Sample 2  [0.010910200656137941, 0.01151731697290573, 0....   \n",
       "4    Part 2 of Sample 2  [0.01298466010397897, 0.011976413363632319, 0....   \n",
       "..                  ...                                                ...   \n",
       "85  Part 2 of Sample 29  [0.011764705882352941, 0.011764705882352941, 0...   \n",
       "86  Part 3 of Sample 29  [0.011764705882352941, 0.011764705882352941, 0...   \n",
       "87  Part 1 of Sample 30  [0.011764705882352941, 0.011764705882352941, 0...   \n",
       "88  Part 2 of Sample 30  [0.011764705882352941, 0.011764705882352941, 0...   \n",
       "89  Part 3 of Sample 30  [0.01279427338807597, 0.01568627450980392, 0.0...   \n",
       "\n",
       "      row_sum    REP  sample_ID          diet    part  \n",
       "0   25.579351  Rep 1          1     JUB66_RFP  part 1  \n",
       "1   33.152957  Rep 1          1     JUB66_RFP  part 2  \n",
       "2   26.855949  Rep 1          1     JUB66_RFP  part 3  \n",
       "3   18.363878  Rep 1          2     JUB66_RFP  part 1  \n",
       "4   19.861612  Rep 1          2     JUB66_RFP  part 2  \n",
       "..        ...    ...        ...           ...     ...  \n",
       "85  18.335350  Rep 3         89  MK_JUB66_RFP  part 2  \n",
       "86  15.781216  Rep 3         89  MK_JUB66_RFP  part 3  \n",
       "87  18.244084  Rep 3         90  MK_JUB66_RFP  part 1  \n",
       "88  17.078793  Rep 3         90  MK_JUB66_RFP  part 2  \n",
       "89  16.651574  Rep 3         90  MK_JUB66_RFP  part 3  \n",
       "\n",
       "[270 rows x 7 columns]"
      ]
     },
     "execution_count": 116,
     "metadata": {},
     "output_type": "execute_result"
    }
   ],
   "source": [
    "# we need to add a new column called 'part' to assign a region for each observation\n",
    "\n",
    "parts = ['part 1', 'part 2', 'part 3']\n",
    "parts_seq = parts * 90 \n",
    "#print(parts_seq)\n",
    "#len(parts_seq)\n",
    "\n",
    "combined_df = combined_df.assign(part=parts_seq)\n",
    "combined_df"
   ]
  },
  {
   "cell_type": "markdown",
   "metadata": {},
   "source": [
    "-----"
   ]
  },
  {
   "cell_type": "code",
   "execution_count": 127,
   "metadata": {},
   "outputs": [
    {
     "data": {
      "image/png": "[encoded data removed]",
      "text/plain": [
       "<Figure size 832x600 with 1 Axes>"
      ]
     },
     "metadata": {},
     "output_type": "display_data"
    }
   ],
   "source": [
    "# graph the data as a grouped bar plot\n",
    "\n",
    "g = sns.catplot(\n",
    "    data=combined_df, kind=\"bar\",\n",
    "    x=\"part\", y=\"row_sum\", hue=\"diet\",\n",
    "    errorbar=\"se\", palette=\"dark\", alpha=.6, height=6\n",
    ")\n",
    "g.despine(left=True)\n",
    "g.set_axis_labels(\"\", \"intensity\")\n",
    "g.legend.set_title(\"\")"
   ]
  },
  {
   "cell_type": "code",
   "execution_count": 128,
   "metadata": {},
   "outputs": [
    {
     "data": {
      "text/plain": [
       "<seaborn.axisgrid.FacetGrid at 0x1a07344c0>"
      ]
     },
     "execution_count": 128,
     "metadata": {},
     "output_type": "execute_result"
    },
    {
     "data": {
      "image/png": "[encoded data removed]",
      "text/plain": [
       "<Figure size 682x600 with 1 Axes>"
      ]
     },
     "metadata": {},
     "output_type": "display_data"
    }
   ],
   "source": [
    "# graph the data as a grouped point plot\n",
    "\n",
    "sns.set_theme(style=\"whitegrid\")\n",
    "\n",
    "g = sns.catplot(\n",
    "    data=combined_df, x=\"part\", y=\"row_sum\", hue=\"diet\",\n",
    "    capsize=.2, palette=\"YlGnBu_d\", errorbar=\"se\",\n",
    "    kind=\"point\", height=6, aspect=.75,\n",
    ")\n",
    "g.despine(left=True)"
   ]
  },
  {
   "cell_type": "code",
   "execution_count": 129,
   "metadata": {},
   "outputs": [
    {
     "data": {
      "text/plain": [
       "[Text(0, 0.5, '')]"
      ]
     },
     "execution_count": 129,
     "metadata": {},
     "output_type": "execute_result"
    },
    {
     "data": {
      "image/png": "[encoded data removed]",
      "text/plain": [
       "<Figure size 640x480 with 1 Axes>"
      ]
     },
     "metadata": {},
     "output_type": "display_data"
    }
   ],
   "source": [
    "# Draw a categorical scatterplot to show each observation\n",
    "\n",
    "sns.set_theme(style=\"whitegrid\", palette=\"muted\")\n",
    "\n",
    "ax = sns.stripplot(data=combined_df, x=\"row_sum\", y=\"part\", hue=\"diet\")\n",
    "ax.set(ylabel=\"\")"
   ]
  },
  {
   "cell_type": "code",
   "execution_count": 131,
   "metadata": {},
   "outputs": [
    {
     "data": {
      "text/plain": [
       "<Axes: xlabel='part', ylabel='row_sum'>"
      ]
     },
     "execution_count": 131,
     "metadata": {},
     "output_type": "execute_result"
    },
    {
     "data": {
      "image/png": "[encoded data removed]",
      "text/plain": [
       "<Figure size 640x480 with 1 Axes>"
      ]
     },
     "metadata": {},
     "output_type": "display_data"
    }
   ],
   "source": [
    "# Plot the responses for different each part\n",
    "\n",
    "sns.set_theme(style=\"darkgrid\")\n",
    "\n",
    "sns.lineplot(x=\"part\", y=\"row_sum\",\n",
    "             hue=\"diet\",\n",
    "             data=combined_df)"
   ]
  },
  {
   "cell_type": "code",
   "execution_count": 132,
   "metadata": {},
   "outputs": [
    {
     "data": {
      "text/plain": [
       "(array([1, 2, 3, 4, 5, 6, 7, 8, 9]),\n",
       " [Text(1, 0, '(part 1, JUB66_RFP)'),\n",
       "  Text(2, 0, '(part 1, JUB66_RFP_IN_CEMBIO)'),\n",
       "  Text(3, 0, '(part 1, MK_JUB66_RFP)'),\n",
       "  Text(4, 0, '(part 2, JUB66_RFP)'),\n",
       "  Text(5, 0, '(part 2, JUB66_RFP_IN_CEMBIO)'),\n",
       "  Text(6, 0, '(part 2, MK_JUB66_RFP)'),\n",
       "  Text(7, 0, '(part 3, JUB66_RFP)'),\n",
       "  Text(8, 0, '(part 3, JUB66_RFP_IN_CEMBIO)'),\n",
       "  Text(9, 0, '(part 3, MK_JUB66_RFP)')])"
      ]
     },
     "execution_count": 132,
     "metadata": {},
     "output_type": "execute_result"
    },
    {
     "data": {
      "image/png": "[encoded data removed]",
      "text/plain": [
       "<Figure size 1600x900 with 1 Axes>"
      ]
     },
     "metadata": {},
     "output_type": "display_data"
    }
   ],
   "source": [
    "# graph the data as a box plot\n",
    "\n",
    "boxplot = combined_df.boxplot([\"row_sum\"], by = [\"part\", \"diet\"],\n",
    "                     figsize = (16, 9),\n",
    "                     showmeans = True,\n",
    "                     notch = True)\n",
    "\n",
    "boxplot.set_xlabel(\"Categories\")\n",
    "boxplot.set_ylabel(\"intensity\")\n",
    "plt.xticks(rotation=45)"
   ]
  },
  {
   "cell_type": "markdown",
   "metadata": {},
   "source": [
    "------"
   ]
  },
  {
   "cell_type": "code",
   "execution_count": 122,
   "metadata": {},
   "outputs": [
    {
     "name": "stdout",
     "output_type": "stream",
     "text": [
      "\n",
      "\n"
     ]
    },
    {
     "data": {
      "text/html": [
       "<div>\n",
       "<style scoped>\n",
       "    .dataframe tbody tr th:only-of-type {\n",
       "        vertical-align: middle;\n",
       "    }\n",
       "\n",
       "    .dataframe tbody tr th {\n",
       "        vertical-align: top;\n",
       "    }\n",
       "\n",
       "    .dataframe thead th {\n",
       "        text-align: right;\n",
       "    }\n",
       "</style>\n",
       "<table border=\"1\" class=\"dataframe\">\n",
       "  <thead>\n",
       "    <tr style=\"text-align: right;\">\n",
       "      <th></th>\n",
       "      <th></th>\n",
       "      <th>N</th>\n",
       "      <th>Mean</th>\n",
       "      <th>SD</th>\n",
       "      <th>SE</th>\n",
       "      <th>95% Conf.</th>\n",
       "      <th>Interval</th>\n",
       "    </tr>\n",
       "    <tr>\n",
       "      <th>diet</th>\n",
       "      <th>part</th>\n",
       "      <th></th>\n",
       "      <th></th>\n",
       "      <th></th>\n",
       "      <th></th>\n",
       "      <th></th>\n",
       "      <th></th>\n",
       "    </tr>\n",
       "  </thead>\n",
       "  <tbody>\n",
       "    <tr>\n",
       "      <th rowspan=\"3\" valign=\"top\">JUB66_RFP</th>\n",
       "      <th>part 1</th>\n",
       "      <td>30</td>\n",
       "      <td>21.8944</td>\n",
       "      <td>9.8419</td>\n",
       "      <td>1.7969</td>\n",
       "      <td>18.2194</td>\n",
       "      <td>25.5694</td>\n",
       "    </tr>\n",
       "    <tr>\n",
       "      <th>part 2</th>\n",
       "      <td>30</td>\n",
       "      <td>26.9124</td>\n",
       "      <td>21.5881</td>\n",
       "      <td>3.9414</td>\n",
       "      <td>18.8513</td>\n",
       "      <td>34.9735</td>\n",
       "    </tr>\n",
       "    <tr>\n",
       "      <th>part 3</th>\n",
       "      <td>30</td>\n",
       "      <td>29.6628</td>\n",
       "      <td>20.9218</td>\n",
       "      <td>3.8198</td>\n",
       "      <td>21.8504</td>\n",
       "      <td>37.4751</td>\n",
       "    </tr>\n",
       "    <tr>\n",
       "      <th rowspan=\"3\" valign=\"top\">JUB66_RFP_IN_CEMBIO</th>\n",
       "      <th>part 1</th>\n",
       "      <td>30</td>\n",
       "      <td>25.7116</td>\n",
       "      <td>11.9706</td>\n",
       "      <td>2.1855</td>\n",
       "      <td>21.2417</td>\n",
       "      <td>30.1815</td>\n",
       "    </tr>\n",
       "    <tr>\n",
       "      <th>part 2</th>\n",
       "      <td>30</td>\n",
       "      <td>25.0780</td>\n",
       "      <td>13.0552</td>\n",
       "      <td>2.3835</td>\n",
       "      <td>20.2031</td>\n",
       "      <td>29.9529</td>\n",
       "    </tr>\n",
       "    <tr>\n",
       "      <th>part 3</th>\n",
       "      <td>30</td>\n",
       "      <td>20.4539</td>\n",
       "      <td>9.5474</td>\n",
       "      <td>1.7431</td>\n",
       "      <td>16.8888</td>\n",
       "      <td>24.0189</td>\n",
       "    </tr>\n",
       "    <tr>\n",
       "      <th rowspan=\"3\" valign=\"top\">MK_JUB66_RFP</th>\n",
       "      <th>part 1</th>\n",
       "      <td>30</td>\n",
       "      <td>16.9243</td>\n",
       "      <td>4.0407</td>\n",
       "      <td>0.7377</td>\n",
       "      <td>15.4155</td>\n",
       "      <td>18.4331</td>\n",
       "    </tr>\n",
       "    <tr>\n",
       "      <th>part 2</th>\n",
       "      <td>30</td>\n",
       "      <td>15.9421</td>\n",
       "      <td>3.7085</td>\n",
       "      <td>0.6771</td>\n",
       "      <td>14.5573</td>\n",
       "      <td>17.3269</td>\n",
       "    </tr>\n",
       "    <tr>\n",
       "      <th>part 3</th>\n",
       "      <td>30</td>\n",
       "      <td>15.0898</td>\n",
       "      <td>3.1837</td>\n",
       "      <td>0.5813</td>\n",
       "      <td>13.9009</td>\n",
       "      <td>16.2786</td>\n",
       "    </tr>\n",
       "  </tbody>\n",
       "</table>\n",
       "</div>"
      ],
      "text/plain": [
       "                             N     Mean       SD      SE  95% Conf.  Interval\n",
       "diet                part                                                     \n",
       "JUB66_RFP           part 1  30  21.8944   9.8419  1.7969    18.2194   25.5694\n",
       "                    part 2  30  26.9124  21.5881  3.9414    18.8513   34.9735\n",
       "                    part 3  30  29.6628  20.9218  3.8198    21.8504   37.4751\n",
       "JUB66_RFP_IN_CEMBIO part 1  30  25.7116  11.9706  2.1855    21.2417   30.1815\n",
       "                    part 2  30  25.0780  13.0552  2.3835    20.2031   29.9529\n",
       "                    part 3  30  20.4539   9.5474  1.7431    16.8888   24.0189\n",
       "MK_JUB66_RFP        part 1  30  16.9243   4.0407  0.7377    15.4155   18.4331\n",
       "                    part 2  30  15.9421   3.7085  0.6771    14.5573   17.3269\n",
       "                    part 3  30  15.0898   3.1837  0.5813    13.9009   16.2786"
      ]
     },
     "execution_count": 122,
     "metadata": {},
     "output_type": "execute_result"
    }
   ],
   "source": [
    "# lets look at the row_sum based on their diet and the part grouping.\n",
    "rp.summary_cont(combined_df.groupby([\"diet\", \"part\"])[\"row_sum\"])"
   ]
  },
  {
   "cell_type": "code",
   "execution_count": 135,
   "metadata": {},
   "outputs": [
    {
     "data": {
      "text/html": [
       "<table class=\"simpletable\">\n",
       "<tr>\n",
       "       <td>Model:</td>       <td>MixedLM</td> <td>Dependent Variable:</td>  <td>row_sum</td> \n",
       "</tr>\n",
       "<tr>\n",
       "  <td>No. Observations:</td>   <td>270</td>         <td>Method:</td>         <td>REML</td>   \n",
       "</tr>\n",
       "<tr>\n",
       "     <td>No. Groups:</td>      <td>90</td>          <td>Scale:</td>         <td>58.1291</td> \n",
       "</tr>\n",
       "<tr>\n",
       "  <td>Min. group size:</td>     <td>3</td>      <td>Log-Likelihood:</td>   <td>-995.8234</td>\n",
       "</tr>\n",
       "<tr>\n",
       "  <td>Max. group size:</td>     <td>3</td>        <td>Converged:</td>         <td>Yes</td>   \n",
       "</tr>\n",
       "<tr>\n",
       "  <td>Mean group size:</td>    <td>3.0</td>            <td></td>               <td></td>     \n",
       "</tr>\n",
       "</table>\n",
       "<table class=\"simpletable\">\n",
       "<tr>\n",
       "                          <td></td>                          <th>Coef.</th>  <th>Std.Err.</th>    <th>z</th>   <th>P>|z|</th> <th>[0.025</th>  <th>0.975]</th>\n",
       "</tr>\n",
       "<tr>\n",
       "  <th>Intercept</th>                                        <td>21.894</td>    <td>2.314</td>   <td>9.462</td> <td>0.000</td> <td>17.359</td>  <td>26.430</td>\n",
       "</tr>\n",
       "<tr>\n",
       "  <th>C(diet)[T.JUB66_RFP_IN_CEMBIO]</th>                    <td>3.817</td>    <td>3.272</td>   <td>1.166</td> <td>0.243</td> <td>-2.597</td>  <td>10.231</td>\n",
       "</tr>\n",
       "<tr>\n",
       "  <th>C(diet)[T.MK_JUB66_RFP]</th>                          <td>-4.970</td>    <td>3.272</td>  <td>-1.519</td> <td>0.129</td> <td>-11.384</td>  <td>1.444</td>\n",
       "</tr>\n",
       "<tr>\n",
       "  <th>C(part)[T.part 2]</th>                                 <td>5.018</td>    <td>1.969</td>   <td>2.549</td> <td>0.011</td>  <td>1.160</td>   <td>8.876</td>\n",
       "</tr>\n",
       "<tr>\n",
       "  <th>C(part)[T.part 3]</th>                                 <td>7.768</td>    <td>1.969</td>   <td>3.946</td> <td>0.000</td>  <td>3.910</td>  <td>11.627</td>\n",
       "</tr>\n",
       "<tr>\n",
       "  <th>C(diet)[T.JUB66_RFP_IN_CEMBIO]:C(part)[T.part 2]</th> <td>-5.652</td>    <td>2.784</td>  <td>-2.030</td> <td>0.042</td> <td>-11.108</td> <td>-0.195</td>\n",
       "</tr>\n",
       "<tr>\n",
       "  <th>C(diet)[T.MK_JUB66_RFP]:C(part)[T.part 2]</th>        <td>-6.000</td>    <td>2.784</td>  <td>-2.155</td> <td>0.031</td> <td>-11.457</td> <td>-0.544</td>\n",
       "</tr>\n",
       "<tr>\n",
       "  <th>C(diet)[T.JUB66_RFP_IN_CEMBIO]:C(part)[T.part 3]</th> <td>-13.026</td>   <td>2.784</td>  <td>-4.679</td> <td>0.000</td> <td>-18.483</td> <td>-7.570</td>\n",
       "</tr>\n",
       "<tr>\n",
       "  <th>C(diet)[T.MK_JUB66_RFP]:C(part)[T.part 3]</th>        <td>-9.603</td>    <td>2.784</td>  <td>-3.449</td> <td>0.001</td> <td>-15.059</td> <td>-4.146</td>\n",
       "</tr>\n",
       "<tr>\n",
       "  <th>sample_ID Var</th>                                    <td>102.507</td>   <td>2.969</td>     <td></td>      <td></td>       <td></td>        <td></td>   \n",
       "</tr>\n",
       "</table>"
      ],
      "text/plain": [
       "<class 'statsmodels.iolib.summary2.Summary'>\n",
       "\"\"\"\n",
       "                            Mixed Linear Model Regression Results\n",
       "=============================================================================================\n",
       "Model:                          MixedLM             Dependent Variable:             row_sum  \n",
       "No. Observations:               270                 Method:                         REML     \n",
       "No. Groups:                     90                  Scale:                          58.1291  \n",
       "Min. group size:                3                   Log-Likelihood:                 -995.8234\n",
       "Max. group size:                3                   Converged:                      Yes      \n",
       "Mean group size:                3.0                                                          \n",
       "---------------------------------------------------------------------------------------------\n",
       "                                                  Coef.  Std.Err.   z    P>|z|  [0.025 0.975]\n",
       "---------------------------------------------------------------------------------------------\n",
       "Intercept                                         21.894    2.314  9.462 0.000  17.359 26.430\n",
       "C(diet)[T.JUB66_RFP_IN_CEMBIO]                     3.817    3.272  1.166 0.243  -2.597 10.231\n",
       "C(diet)[T.MK_JUB66_RFP]                           -4.970    3.272 -1.519 0.129 -11.384  1.444\n",
       "C(part)[T.part 2]                                  5.018    1.969  2.549 0.011   1.160  8.876\n",
       "C(part)[T.part 3]                                  7.768    1.969  3.946 0.000   3.910 11.627\n",
       "C(diet)[T.JUB66_RFP_IN_CEMBIO]:C(part)[T.part 2]  -5.652    2.784 -2.030 0.042 -11.108 -0.195\n",
       "C(diet)[T.MK_JUB66_RFP]:C(part)[T.part 2]         -6.000    2.784 -2.155 0.031 -11.457 -0.544\n",
       "C(diet)[T.JUB66_RFP_IN_CEMBIO]:C(part)[T.part 3] -13.026    2.784 -4.679 0.000 -18.483 -7.570\n",
       "C(diet)[T.MK_JUB66_RFP]:C(part)[T.part 3]         -9.603    2.784 -3.449 0.001 -15.059 -4.146\n",
       "sample_ID Var                                    102.507    2.969                            \n",
       "=============================================================================================\n",
       "\n",
       "\"\"\""
      ]
     },
     "execution_count": 135,
     "metadata": {},
     "output_type": "execute_result"
    }
   ],
   "source": [
    "# Use a linear mixed effects model to evaluate how the dependent variable (row_sum) changes in response to our fixed effects ('diet' and 'part') while accounting for random effects (sample_ID). Random effects capture the correlation within our grouping level 'sample_ID', as it is correlated to our variable 'part'. \n",
    "\n",
    "model = smf.mixedlm(\"row_sum ~ C(diet) + C(part) + C(diet):C(part)\", combined_df, groups = \"sample_ID\").fit()\n",
    "model.summary()"
   ]
  },
  {
   "cell_type": "markdown",
   "metadata": {},
   "source": [
    "------"
   ]
  },
  {
   "cell_type": "code",
   "execution_count": 143,
   "metadata": {},
   "outputs": [
    {
     "name": "stdout",
     "output_type": "stream",
     "text": [
      "[0.01636276 0.02057218 0.02246784 ... 0.01414599 0.01365379 0.01301391]\n",
      "[0.03363648 0.03147116 0.03051271 ... 0.01070824 0.01028531 0.00997228]\n",
      "[0.01146919 0.01194542 0.01229615 ... 0.01119622 0.01101699 0.01077329]\n"
     ]
    }
   ],
   "source": [
    "# lets test for differences in the shape of our sample distributions using the Kolmogorov-Smirnov (KS) test for goodness of fit (non-parametric test)\n",
    "\n",
    "# import the 2 sample KS test\n",
    "from scipy.stats import ks_2samp\n",
    "\n",
    "# use the whole length sample array (not the array split into parts) \n",
    "JUB66_RFP_arr\n",
    "# then average the samples within the group\n",
    "JUB66_RFP_avg = np.mean(JUB66_RFP_arr, axis=0)\n",
    "print(JUB66_RFP_avg)\n",
    "\n",
    "JUB66_RFP_IN_CEMBIO_arr\n",
    "JUB66_RFP_IN_CEMBIO_avg = np.mean(JUB66_RFP_IN_CEMBIO_arr, axis=0)\n",
    "print(JUB66_RFP_IN_CEMBIO_avg)\n",
    "\n",
    "MK_JUB66_RFP_arr\n",
    "MK_JUB66_RFP_avg = np.mean(MK_JUB66_RFP_arr, axis=0)\n",
    "print(MK_JUB66_RFP_avg)"
   ]
  },
  {
   "cell_type": "code",
   "execution_count": 144,
   "metadata": {},
   "outputs": [
    {
     "data": {
      "text/plain": [
       "KstestResult(statistic=0.2642857142857143, pvalue=7.50660759199615e-108, statistic_location=0.0192549695703017, statistic_sign=-1)"
      ]
     },
     "execution_count": 144,
     "metadata": {},
     "output_type": "execute_result"
    }
   ],
   "source": [
    "# compare the sample distributions of JUB66_RFP and JUB66_RFP_IN_CEMBIO\n",
    "\n",
    "ks_2samp(JUB66_RFP_avg, JUB66_RFP_IN_CEMBIO_avg)"
   ]
  },
  {
   "cell_type": "code",
   "execution_count": 145,
   "metadata": {},
   "outputs": [
    {
     "data": {
      "text/plain": [
       "KstestResult(statistic=0.892, pvalue=0.0, statistic_location=0.015779295981485884, statistic_sign=-1)"
      ]
     },
     "execution_count": 145,
     "metadata": {},
     "output_type": "execute_result"
    }
   ],
   "source": [
    "# compare the sample distributions of JUB66_RFP and MK_JUB66_RFP\n",
    "\n",
    "ks_2samp(JUB66_RFP_avg, MK_JUB66_RFP_avg)"
   ]
  },
  {
   "cell_type": "code",
   "execution_count": 146,
   "metadata": {},
   "outputs": [
    {
     "data": {
      "text/plain": [
       "KstestResult(statistic=0.704, pvalue=0.0, statistic_location=0.015354455398538112, statistic_sign=-1)"
      ]
     },
     "execution_count": 146,
     "metadata": {},
     "output_type": "execute_result"
    }
   ],
   "source": [
    "# compare the sample distributions of JUB66_RFP_IN_CEMBIO and MK_JUB66_RFP\n",
    "\n",
    "ks_2samp(JUB66_RFP_IN_CEMBIO_avg, MK_JUB66_RFP_avg)"
   ]
  },
  {
   "cell_type": "markdown",
   "metadata": {},
   "source": [
    "----"
   ]
  },
  {
   "cell_type": "markdown",
   "metadata": {},
   "source": [
    "## Chi Square test for goodness of fit (non-parametric test)"
   ]
  },
  {
   "cell_type": "code",
   "execution_count": null,
   "metadata": {},
   "outputs": [],
   "source": [
    "# seperate data into groups based on diet and then by part\n",
    "\n",
    "JUB66_RFP = combined_df[combined_df['diet'] == 'JUB66_RFP']\n",
    "JUB66_RFP_part1 = JUB66_RFP[JUB66_RFP['part'] == 'part 1']\n",
    "JUB66_RFP_part2 = JUB66_RFP[JUB66_RFP['part'] == 'part 2']\n",
    "JUB66_RFP_part3 = JUB66_RFP[JUB66_RFP['part'] == 'part 3']\n",
    "\n",
    "JUB66_RFP_part1 = JUB66_RFP_part1['arr_data']\n",
    "JUB66_RFP_part2 = JUB66_RFP_part2['arr_data']\n",
    "JUB66_RFP_part3 = JUB66_RFP_part3['arr_data']\n",
    "\n",
    "\n",
    "JUB66_RFP_part1_avg = np.mean(JUB66_RFP_part1, axis=0)\n",
    "JUB66_RFP_part2_avg = np.mean(JUB66_RFP_part2, axis=0)\n",
    "JUB66_RFP_part3_avg = np.mean(JUB66_RFP_part3, axis=0)\n",
    "\n",
    "print(JUB66_RFP_part3_avg)\n",
    "len(JUB66_RFP_part3_avg)"
   ]
  },
  {
   "cell_type": "code",
   "execution_count": null,
   "metadata": {},
   "outputs": [],
   "source": [
    "JUB66_RFP_IN_CEMBIO = combined_df[combined_df['diet'] == 'JUB66_RFP_IN_CEMBIO']\n",
    "JUB66_RFP_IN_CEMBIO_part1 = JUB66_RFP_IN_CEMBIO[JUB66_RFP_IN_CEMBIO['part'] == 'part 1']\n",
    "JUB66_RFP_IN_CEMBIO_part2 = JUB66_RFP_IN_CEMBIO[JUB66_RFP_IN_CEMBIO['part'] == 'part 2']\n",
    "JUB66_RFP_IN_CEMBIO_part3 = JUB66_RFP_IN_CEMBIO[JUB66_RFP_IN_CEMBIO['part'] == 'part 3']\n",
    "\n",
    "JUB66_RFP_IN_CEMBIO_part1 = JUB66_RFP_IN_CEMBIO_part1['arr_data']\n",
    "JUB66_RFP_IN_CEMBIO_part2 = JUB66_RFP_IN_CEMBIO_part2['arr_data']\n",
    "JUB66_RFP_IN_CEMBIO_part3 = JUB66_RFP_IN_CEMBIO_part3['arr_data']\n",
    "\n",
    "\n",
    "JUB66_RFP_IN_CEMBIO_part1_avg = np.mean(JUB66_RFP_IN_CEMBIO_part1, axis=0)\n",
    "JUB66_RFP_IN_CEMBIO_part2_avg = np.mean(JUB66_RFP_IN_CEMBIO_part2, axis=0)\n",
    "JUB66_RFP_IN_CEMBIO_part3_avg = np.mean(JUB66_RFP_IN_CEMBIO_part3, axis=0)\n",
    "\n",
    "print(JUB66_RFP_IN_CEMBIO_part3_avg)\n",
    "len(JUB66_RFP_IN_CEMBIO_part3_avg)"
   ]
  },
  {
   "cell_type": "code",
   "execution_count": null,
   "metadata": {},
   "outputs": [],
   "source": [
    "MK_JUB66_RFP = combined_df[combined_df['diet'] == 'MK_JUB66_RFP']\n",
    "MK_JUB66_RFP_part1 = MK_JUB66_RFP[MK_JUB66_RFP['part'] == 'part 1']\n",
    "MK_JUB66_RFP_part2 = MK_JUB66_RFP[MK_JUB66_RFP['part'] == 'part 2']\n",
    "MK_JUB66_RFP_part3 = MK_JUB66_RFP[MK_JUB66_RFP['part'] == 'part 3']\n",
    "\n",
    "MK_JUB66_RFP_part1 = MK_JUB66_RFP_part1['arr_data']\n",
    "MK_JUB66_RFP_part2 = MK_JUB66_RFP_part2['arr_data']\n",
    "MK_JUB66_RFP_part3 = MK_JUB66_RFP_part3['arr_data']\n",
    "\n",
    "\n",
    "MK_JUB66_RFP_part1_avg = np.mean(MK_JUB66_RFP_part1, axis=0)\n",
    "MK_JUB66_RFP_part2_avg = np.mean(MK_JUB66_RFP_part2, axis=0)\n",
    "MK_JUB66_RFP_part3_avg = np.mean(MK_JUB66_RFP_part3, axis=0)\n",
    "\n",
    "print(MK_JUB66_RFP_part3_avg)\n",
    "len(MK_JUB66_RFP_part3_avg)"
   ]
  },
  {
   "cell_type": "code",
   "execution_count": null,
   "metadata": {},
   "outputs": [],
   "source": [
    "bootstrap_sample = np.random.choice(JUB66_RFP_part1_avg, size=len(JUB66_RFP_part1_avg), replace=True)"
   ]
  },
  {
   "cell_type": "code",
   "execution_count": null,
   "metadata": {},
   "outputs": [],
   "source": [
    "# Chi-Square Goodness of Fit Test\n",
    "chi_square_test_statistic, p_value = stats.chisquare(JUB66_RFP_part1_avg, bootstrap_sample)\n",
    "#chi_square_test_statistic, p_value = stats.chisquare(JUB66_RFP_part1_avg, JUB66_RFP_part2_avg, JUB66_RFP_part3_avg)\n",
    "#chi_square_test_statistic, p_value = stats.chisquare(JUB66_RFP_part1_avg, JUB66_RFP_IN_CEMBIO_part1_avg, MK_JUB66_RFP_part1_avg)\n",
    "\n",
    "# chi square test statistic and p value\n",
    "print('chi_square_test_statistic is : ' + str(chi_square_test_statistic))\n",
    "print('p_value : ' + str(p_value))\n",
    "\n",
    "# find Chi-Square critical value\n",
    "print(stats.chi2.ppf(1-0.05, df=6))"
   ]
  },
  {
   "cell_type": "code",
   "execution_count": null,
   "metadata": {},
   "outputs": [],
   "source": []
  },
  {
   "cell_type": "code",
   "execution_count": null,
   "metadata": {},
   "outputs": [],
   "source": []
  },
  {
   "cell_type": "markdown",
   "metadata": {},
   "source": [
    "---"
   ]
  },
  {
   "cell_type": "code",
   "execution_count": null,
   "metadata": {},
   "outputs": [],
   "source": [
    "#logistic regression\n",
    "\n",
    "#use the mk_jub66 as the experimental control"
   ]
  }
 ],
 "metadata": {
  "kernelspec": {
   "display_name": "Python 3 (ipykernel)",
   "language": "python",
   "name": "python3"
  },
  "language_info": {
   "codemirror_mode": {
    "name": "ipython",
    "version": 3
   },
   "file_extension": ".py",
   "mimetype": "text/x-python",
   "name": "python",
   "nbconvert_exporter": "python",
   "pygments_lexer": "ipython3",
   "version": "3.10.10"
  },
  "vscode": {
   "interpreter": {
    "hash": "3463c854f0082a003140982b0872894a147152f8e208066d855aeb42c04ab031"
   }
  }
 },
 "nbformat": 4,
 "nbformat_minor": 4
}
